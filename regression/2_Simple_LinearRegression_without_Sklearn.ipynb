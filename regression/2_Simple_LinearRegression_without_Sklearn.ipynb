{
 "cells": [
  {
   "cell_type": "code",
   "execution_count": 20,
   "metadata": {},
   "outputs": [
    {
     "name": "stdout",
     "output_type": "stream",
     "text": [
      "65.1415715245\n",
      "0.38522498321\n",
      "[ 0.38522498 65.14157152]\n",
      "[81.70624580255205, 73.23129617192748, 74.77219610476831, 81.32102081934184, 87.09939556749495, 87.86984553391537]\n"
     ]
    },
    {
     "data": {
      "image/png": "[encoded data removed]",
      "text/plain": [
       "<Figure size 432x288 with 1 Axes>"
      ]
     },
     "metadata": {
      "needs_background": "light"
     },
     "output_type": "display_data"
    }
   ],
   "source": [
    "#import library\n",
    "import numpy as np\n",
    "import matplotlib.pyplot as plt\n",
    "\n",
    "def find_sum(l, p):\n",
    "    res = 0\n",
    "\n",
    "    for i in l:\n",
    "        res += i**p\n",
    "\n",
    "    return res\n",
    "\n",
    "def find_mul_sum(l1, l2):\n",
    "    res = 0\n",
    "\n",
    "    for i in range(len(l1)):\n",
    "        res += (l1[i]*l2[i])\n",
    "\n",
    "    return res\n",
    "\n",
    "def predict(x, res):\n",
    "    y_pred = []\n",
    "\n",
    "    for i in x:\n",
    "        y_pred.append(res[0] * i + res[1])\n",
    "\n",
    "    return y_pred\n",
    "\n",
    "x = [43, 21, 25, 42, 57, 59]\n",
    "\n",
    "y = [99, 65, 79, 75, 87, 81]\n",
    "\n",
    "sum_x = float(find_sum( x, 1))\n",
    "sum_y = find_sum(y, 1)\n",
    "sum_x2 = find_sum(x, 2)\n",
    "sum_y2 = find_sum(y, 2)\n",
    "sum_xy = find_mul_sum(x, y)\n",
    "\n",
    "#Linear regression: y = a + bx\n",
    "\n",
    "#first option to find a and b\n",
    "a = (sum_y*sum_x2 - sum_x*sum_xy) / (6*sum_x2 - sum_x**2)\n",
    "print a\n",
    "b = (6*sum_xy - sum_x*sum_y) / (6*sum_x2 - sum_x**2)\n",
    "print b\n",
    "\n",
    "#second option to find a and b\n",
    "res = []\n",
    "p = np.array([[sum_x,6], [sum_x2,sum_x]])\n",
    "q = np.array([sum_y, sum_xy])\n",
    "res = np.linalg.solve(p, q)\n",
    "print res\n",
    "\n",
    "y_pred = predict(x, res)\n",
    "print y_pred\n",
    "\n",
    "plt.scatter(x, y, color = 'red')\n",
    "plt.plot(x, y_pred, color = 'blue')\n",
    "plt.title('Regression')\n",
    "plt.xlabel('X')\n",
    "plt.ylabel('Y')\n",
    "plt.show()\n",
    "\n"
   ]
  },
  {
   "cell_type": "code",
   "execution_count": null,
   "metadata": {},
   "outputs": [],
   "source": []
  }
 ],
 "metadata": {
  "kernelspec": {
   "display_name": "Python 2",
   "language": "python",
   "name": "python2"
  },
  "language_info": {
   "codemirror_mode": {
    "name": "ipython",
    "version": 2
   },
   "file_extension": ".py",
   "mimetype": "text/x-python",
   "name": "python",
   "nbconvert_exporter": "python",
   "pygments_lexer": "ipython2",
   "version": "2.7.16"
  }
 },
 "nbformat": 4,
 "nbformat_minor": 2
}
